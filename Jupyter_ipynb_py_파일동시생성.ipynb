{
 "cells": [
  {
   "cell_type": "code",
   "execution_count": 6,
   "id": "e69bdc74",
   "metadata": {},
   "outputs": [
    {
     "name": "stdout",
     "output_type": "stream",
     "text": [
      "Collecting jupytext\n",
      "  Downloading jupytext-1.13.7-py3-none-any.whl (297 kB)\n",
      "\u001b[K     |████████████████████████████████| 297 kB 12.0 MB/s eta 0:00:01\n",
      "\u001b[?25hCollecting markdown-it-py~=1.0\n",
      "  Downloading markdown_it_py-1.1.0-py3-none-any.whl (83 kB)\n",
      "\u001b[K     |████████████████████████████████| 83 kB 12.4 MB/s eta 0:00:01\n",
      "\u001b[?25hRequirement already satisfied: toml in /opt/anaconda3/lib/python3.8/site-packages (from jupytext) (0.10.2)\n",
      "Collecting mdit-py-plugins\n",
      "  Downloading mdit_py_plugins-0.3.0-py3-none-any.whl (43 kB)\n",
      "\u001b[K     |████████████████████████████████| 43 kB 10.9 MB/s eta 0:00:01\n",
      "\u001b[?25hRequirement already satisfied: nbformat in /opt/anaconda3/lib/python3.8/site-packages (from jupytext) (5.1.3)\n",
      "Requirement already satisfied: pyyaml in /opt/anaconda3/lib/python3.8/site-packages (from jupytext) (5.4.1)\n",
      "Requirement already satisfied: attrs<22,>=19 in /opt/anaconda3/lib/python3.8/site-packages (from markdown-it-py~=1.0->jupytext) (20.3.0)\n",
      "Requirement already satisfied: ipython-genutils in /opt/anaconda3/lib/python3.8/site-packages (from nbformat->jupytext) (0.2.0)\n",
      "Requirement already satisfied: jupyter-core in /opt/anaconda3/lib/python3.8/site-packages (from nbformat->jupytext) (4.7.1)\n",
      "Requirement already satisfied: jsonschema!=2.5.0,>=2.4 in /opt/anaconda3/lib/python3.8/site-packages (from nbformat->jupytext) (3.2.0)\n",
      "Requirement already satisfied: traitlets>=4.1 in /opt/anaconda3/lib/python3.8/site-packages (from nbformat->jupytext) (5.0.5)\n",
      "Requirement already satisfied: setuptools in /opt/anaconda3/lib/python3.8/site-packages (from jsonschema!=2.5.0,>=2.4->nbformat->jupytext) (52.0.0.post20210125)\n",
      "Requirement already satisfied: six>=1.11.0 in /opt/anaconda3/lib/python3.8/site-packages (from jsonschema!=2.5.0,>=2.4->nbformat->jupytext) (1.15.0)\n",
      "Requirement already satisfied: pyrsistent>=0.14.0 in /opt/anaconda3/lib/python3.8/site-packages (from jsonschema!=2.5.0,>=2.4->nbformat->jupytext) (0.17.3)\n",
      "Installing collected packages: markdown-it-py, mdit-py-plugins, jupytext\n",
      "Successfully installed jupytext-1.13.7 markdown-it-py-1.1.0 mdit-py-plugins-0.3.0\n",
      "Note: you may need to restart the kernel to use updated packages.\n"
     ]
    }
   ],
   "source": [
    "pip install jupytext"
   ]
  },
  {
   "cell_type": "code",
   "execution_count": 10,
   "id": "2510e41f",
   "metadata": {},
   "outputs": [
    {
     "name": "stdout",
     "output_type": "stream",
     "text": [
      "Collecting package metadata (current_repodata.json): done\n",
      "Solving environment: / \n",
      "The environment is inconsistent, please check the package plan carefully\n",
      "The following packages are causing the inconsistency:\n",
      "\n",
      "  - defaults/noarch::jupyterlab==3.0.14=pyhd3eb1b0_1\n",
      "  - defaults/noarch::python-language-server==0.36.2=pyhd3eb1b0_0\n",
      "  - defaults/noarch::jsonschema==3.2.0=py_2\n",
      "  - defaults/noarch::importlib_metadata==3.10.0=hd3eb1b0_0\n",
      "  - defaults/noarch::pyls-spyder==0.3.2=pyhd3eb1b0_0\n",
      "  - defaults/noarch::jupyterlab_server==2.4.0=pyhd3eb1b0_0\n",
      "  - defaults/noarch::nbclient==0.5.3=pyhd3eb1b0_0\n",
      "  - defaults/noarch::conda-repo-cli==1.0.4=pyhd3eb1b0_0\n",
      "  - defaults/noarch::nbclassic==0.2.6=pyhd3eb1b0_0\n",
      "  - defaults/osx-64::anaconda-navigator==2.1.1=py38_0\n",
      "  - defaults/osx-64::_ipyw_jlab_nb_ext_conf==0.1.0=py38_0\n",
      "  - defaults/osx-64::anaconda-client==1.7.2=py38_0\n",
      "  - defaults/noarch::pyls-black==0.4.6=hd3eb1b0_0\n",
      "  - defaults/osx-64::widgetsnbextension==3.5.1=py38_0\n",
      "  - defaults/osx-64::anaconda==2021.05=py38_0\n",
      "  - defaults/osx-64::notebook==6.3.0=py38hecd8cb5_0\n",
      "  - defaults/osx-64::jupyter==1.0.0=py38_7\n",
      "  - defaults/noarch::ipywidgets==7.6.3=pyhd3eb1b0_1\n",
      "  - defaults/noarch::anaconda-project==0.9.1=pyhd3eb1b0_1\n",
      "  - defaults/noarch::nbformat==5.1.3=pyhd3eb1b0_0\n",
      "  - defaults/osx-64::spyder==4.2.5=py38hecd8cb5_0\n",
      "  - defaults/osx-64::nbconvert==6.0.7=py38_0\n",
      "  - defaults/noarch::flake8==3.9.0=pyhd3eb1b0_0\n",
      "  - defaults/osx-64::jupyter_server==1.4.1=py38hecd8cb5_0\n",
      "failed with initial frozen solve. Retrying with flexible solve.\n",
      "Solving environment: failed with repodata from current_repodata.json, will retry with next repodata source.\n",
      "Collecting package metadata (repodata.json): done\n",
      "Solving environment: - \n",
      "The environment is inconsistent, please check the package plan carefully\n",
      "The following packages are causing the inconsistency:\n",
      "\n",
      "  - defaults/noarch::jupyterlab==3.0.14=pyhd3eb1b0_1\n",
      "  - defaults/noarch::python-language-server==0.36.2=pyhd3eb1b0_0\n",
      "  - defaults/noarch::jsonschema==3.2.0=py_2\n",
      "  - defaults/noarch::importlib_metadata==3.10.0=hd3eb1b0_0\n",
      "  - defaults/noarch::pyls-spyder==0.3.2=pyhd3eb1b0_0\n",
      "  - defaults/noarch::jupyterlab_server==2.4.0=pyhd3eb1b0_0\n",
      "  - defaults/noarch::nbclient==0.5.3=pyhd3eb1b0_0\n",
      "  - defaults/noarch::conda-repo-cli==1.0.4=pyhd3eb1b0_0\n",
      "  - defaults/noarch::nbclassic==0.2.6=pyhd3eb1b0_0\n",
      "  - defaults/osx-64::anaconda-navigator==2.1.1=py38_0\n",
      "  - defaults/osx-64::_ipyw_jlab_nb_ext_conf==0.1.0=py38_0\n",
      "  - defaults/osx-64::anaconda-client==1.7.2=py38_0\n",
      "  - defaults/noarch::pyls-black==0.4.6=hd3eb1b0_0\n",
      "  - defaults/osx-64::widgetsnbextension==3.5.1=py38_0\n",
      "  - defaults/osx-64::anaconda==2021.05=py38_0\n",
      "  - defaults/osx-64::notebook==6.3.0=py38hecd8cb5_0\n",
      "  - defaults/osx-64::jupyter==1.0.0=py38_7\n",
      "  - defaults/noarch::ipywidgets==7.6.3=pyhd3eb1b0_1\n",
      "  - defaults/noarch::anaconda-project==0.9.1=pyhd3eb1b0_1\n",
      "  - defaults/noarch::nbformat==5.1.3=pyhd3eb1b0_0\n",
      "  - defaults/osx-64::spyder==4.2.5=py38hecd8cb5_0\n",
      "  - defaults/osx-64::nbconvert==6.0.7=py38_0\n",
      "  - defaults/noarch::flake8==3.9.0=pyhd3eb1b0_0\n",
      "  - defaults/osx-64::jupyter_server==1.4.1=py38hecd8cb5_0\n",
      "done\n",
      "\n",
      "## Package Plan ##\n",
      "\n",
      "  environment location: /opt/anaconda3\n",
      "\n",
      "  added / updated specs:\n",
      "    - ipykernel\n",
      "\n",
      "\n",
      "The following packages will be downloaded:\n",
      "\n",
      "    package                    |            build\n",
      "    ---------------------------|-----------------\n",
      "    _anaconda_depends-2020.07  |           py38_0           6 KB\n",
      "    anaconda-custom            |           py38_1          35 KB\n",
      "    ca-certificates-2022.2.1   |       hecd8cb5_0         122 KB\n",
      "    certifi-2021.10.8          |   py38hecd8cb5_2         152 KB\n",
      "    libllvm9-9.0.1             |       h21ff451_1        15.4 MB\n",
      "    openssl-1.1.1m             |       hca72f7f_0         2.2 MB\n",
      "    pathtools-0.1.2            |     pyhd3eb1b0_1           9 KB\n",
      "    snappy-1.1.8               |       hb1e8313_0          54 KB\n",
      "    ------------------------------------------------------------\n",
      "                                           Total:        18.0 MB\n",
      "\n",
      "The following NEW packages will be INSTALLED:\n",
      "\n",
      "  _anaconda_depends  pkgs/main/osx-64::_anaconda_depends-2020.07-py38_0\n",
      "  importlib-metadata pkgs/main/osx-64::importlib-metadata-3.10.0-py38hecd8cb5_0\n",
      "  libllvm9           pkgs/main/osx-64::libllvm9-9.0.1-h21ff451_1\n",
      "  pathtools          pkgs/main/noarch::pathtools-0.1.2-pyhd3eb1b0_1\n",
      "  snappy             pkgs/main/osx-64::snappy-1.1.8-hb1e8313_0\n",
      "\n",
      "The following packages will be UPDATED:\n",
      "\n",
      "  ca-certificates                      2021.4.13-hecd8cb5_1 --> 2022.2.1-hecd8cb5_0\n",
      "  certifi                          2020.12.5-py38hecd8cb5_0 --> 2021.10.8-py38hecd8cb5_2\n",
      "  openssl                                 1.1.1k-h9ed2024_0 --> 1.1.1m-hca72f7f_0\n",
      "\n",
      "The following packages will be DOWNGRADED:\n",
      "\n",
      "  anaconda                                   2021.05-py38_0 --> custom-py38_1\n",
      "\n",
      "\n",
      "\n",
      "Downloading and Extracting Packages\n",
      "openssl-1.1.1m       | 2.2 MB    | ##################################### | 100% \n",
      "ca-certificates-2022 | 122 KB    | ##################################### | 100% \n",
      "snappy-1.1.8         | 54 KB     | ##################################### | 100% \n",
      "libllvm9-9.0.1       | 15.4 MB   | ##################################### | 100% \n",
      "anaconda-custom      | 35 KB     | ##################################### | 100% \n",
      "certifi-2021.10.8    | 152 KB    | ##################################### | 100% \n",
      "pathtools-0.1.2      | 9 KB      | ##################################### | 100% \n",
      "_anaconda_depends-20 | 6 KB      | ##################################### | 100% \n",
      "Preparing transaction: done\n",
      "Verifying transaction: done\n",
      "Executing transaction: done\n",
      "\n",
      "Note: you may need to restart the kernel to use updated packages.\n"
     ]
    }
   ],
   "source": [
    "# conda activate [가상환경 이름]\n",
    "conda install ipykernel"
   ]
  },
  {
   "cell_type": "code",
   "execution_count": 13,
   "id": "7f71f115",
   "metadata": {},
   "outputs": [
    {
     "ename": "SyntaxError",
     "evalue": "invalid syntax (<ipython-input-13-98a7e9ec8467>, line 1)",
     "output_type": "error",
     "traceback": [
      "\u001b[0;36m  File \u001b[0;32m\"<ipython-input-13-98a7e9ec8467>\"\u001b[0;36m, line \u001b[0;32m1\u001b[0m\n\u001b[0;31m    python -m ipykernel install --user --name base\u001b[0m\n\u001b[0m              ^\u001b[0m\n\u001b[0;31mSyntaxError\u001b[0m\u001b[0;31m:\u001b[0m invalid syntax\n"
     ]
    }
   ],
   "source": [
    "python -m ipykernel install --user --name base\n",
    "# python -m ipykernel install --user --name [가상환경 이름]"
   ]
  },
  {
   "cell_type": "code",
   "execution_count": 12,
   "id": "9b82a210",
   "metadata": {},
   "outputs": [
    {
     "name": "stdout",
     "output_type": "stream",
     "text": [
      "# conda environments:\n",
      "#\n",
      "base                  *  /opt/anaconda3\n",
      "basic                    /opt/anaconda3/envs/basic\n",
      "\n",
      "\n",
      "Note: you may need to restart the kernel to use updated packages.\n"
     ]
    }
   ],
   "source": [
    "conda env list"
   ]
  },
  {
   "cell_type": "code",
   "execution_count": null,
   "id": "298834b0",
   "metadata": {},
   "outputs": [],
   "source": []
  }
 ],
 "metadata": {
  "jupytext": {
   "formats": "ipynb,auto:light"
  },
  "kernelspec": {
   "display_name": "Python 3",
   "language": "python",
   "name": "python3"
  },
  "language_info": {
   "codemirror_mode": {
    "name": "ipython",
    "version": 3
   },
   "file_extension": ".py",
   "mimetype": "text/x-python",
   "name": "python",
   "nbconvert_exporter": "python",
   "pygments_lexer": "ipython3",
   "version": "3.8.8"
  }
 },
 "nbformat": 4,
 "nbformat_minor": 5
}
